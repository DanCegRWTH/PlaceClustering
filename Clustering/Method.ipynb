{
 "cells": [
  {
   "cell_type": "code",
   "execution_count": 1,
   "metadata": {},
   "outputs": [],
   "source": [
    "import pm4py as pm\n",
    "import numpy as np\n",
    "import matplotlib.pyplot as plt\n",
    "import os\n",
    "from src.visualizer import Visualizer\n",
    "from src.utils import add_unique_start_end\n",
    "\n",
    "# Since ProM exports the place information as HTML, you can convert it here to JSON\n",
    "# Define the old and new file names\n",
    "old_file_name = \"place_files/orderT0.html\"\n",
    "new_file_name = \"place_files/orderT0.json\"\n",
    "\n",
    "if os.path.exists(old_file_name):\n",
    "    # Rename the file\n",
    "    os.rename(old_file_name, new_file_name)\n",
    "    print(f\"Renamed '{old_file_name}' to '{new_file_name}'\")\n",
    "\n",
    "# Configuration:\n",
    "PLACE_FILE = \"place_files/orderT0.json\"\n",
    "MAX_N_MODELS = 3\n",
    "# The event log file is only needed for the evaluation (which is optional)\n",
    "LOG_FILE = \"evlog/sample_eventlog_2.xes\"\n",
    "LOG_HAS_START_END = False # Does the event log already have unique start and end activities as the eST-Miner\n",
    "UNIQUE_START = '▷'\n",
    "UNIQUE_END = '☐'"
   ]
  },
  {
   "cell_type": "code",
   "execution_count": 2,
   "metadata": {},
   "outputs": [
    {
     "name": "stdout",
     "output_type": "stream",
     "text": [
      "Model Splitting took 0.04 seconds...\n",
      "Applying Model Selection...\n",
      "Model Selection took 0.00 seconds...\n",
      "Creating Petri nets...\n"
     ]
    },
    {
     "name": "stdout",
     "output_type": "stream",
     "text": [
      "Number of Places: 4329\n",
      "Number of Groups: 14\n",
      "Number of Sels: 5\n"
     ]
    }
   ],
   "source": [
    "VIS = Visualizer(PLACE_FILE)\n",
    "print(\"Applying Model Selection...\")\n",
    "VIS.apply_model_selection(MAX_N_MODELS)\n",
    "print(f'Number of Places: {len(VIS.grouper.total_place_list)}')\n",
    "print(f'Number of Groups: {len(VIS.grouper.unique_sorted_place_vec_list)}')\n",
    "print(f'Number of Sels: {len(VIS.model_selection.selections)}')"
   ]
  },
  {
   "cell_type": "code",
   "execution_count": 3,
   "metadata": {},
   "outputs": [
    {
     "data": {
      "application/vnd.jupyter.widget-view+json": {
       "model_id": "8092b9fa65f649b3adf678b72d3fca1d",
       "version_major": 2,
       "version_minor": 0
      },
      "text/plain": [
       "Output()"
      ]
     },
     "metadata": {},
     "output_type": "display_data"
    },
    {
     "data": {
      "application/vnd.jupyter.widget-view+json": {
       "model_id": "fa691dfeefd04437874d8e8855f50dbc",
       "version_major": 2,
       "version_minor": 0
      },
      "text/plain": [
       "Output()"
      ]
     },
     "metadata": {},
     "output_type": "display_data"
    }
   ],
   "source": [
    "# Reload cell on slider change (There is a bug when automating it)!\n",
    "VIS.update_selection()\n",
    "VIS.get_slider_output()\n",
    "VIS.get_models_output()"
   ]
  },
  {
   "cell_type": "markdown",
   "metadata": {},
   "source": [
    "## Evaluation"
   ]
  },
  {
   "cell_type": "code",
   "execution_count": null,
   "metadata": {},
   "outputs": [
    {
     "data": {
      "application/vnd.jupyter.widget-view+json": {
       "model_id": "d895a13605f343dcb255f97d9caabe75",
       "version_major": 2,
       "version_minor": 0
      },
      "text/plain": [
       "parsing log, completed traces ::   0%|          | 0/12666 [00:00<?, ?it/s]"
      ]
     },
     "metadata": {},
     "output_type": "display_data"
    },
    {
     "name": "stdout",
     "output_type": "stream",
     "text": [
      "Evaluating orderT0 with 5 selections!\n"
     ]
    },
    {
     "data": {
      "application/vnd.jupyter.widget-view+json": {
       "model_id": "2c7382d979244b339974e77aab3b2696",
       "version_major": 2,
       "version_minor": 0
      },
      "text/plain": [
       "computing precision with alignments, completed variants ::   0%|          | 0/15 [00:00<?, ?it/s]"
      ]
     },
     "metadata": {},
     "output_type": "display_data"
    },
    {
     "data": {
      "application/vnd.jupyter.widget-view+json": {
       "model_id": "b9065c40398f44018f778d4321c088fd",
       "version_major": 2,
       "version_minor": 0
      },
      "text/plain": [
       "computing precision with alignments, completed variants ::   0%|          | 0/15 [00:00<?, ?it/s]"
      ]
     },
     "metadata": {},
     "output_type": "display_data"
    },
    {
     "data": {
      "application/vnd.jupyter.widget-view+json": {
       "model_id": "d7f5a09d6a5a4a73b1bb7dc5cd9008cc",
       "version_major": 2,
       "version_minor": 0
      },
      "text/plain": [
       "computing precision with alignments, completed variants ::   0%|          | 0/15 [00:00<?, ?it/s]"
      ]
     },
     "metadata": {},
     "output_type": "display_data"
    },
    {
     "data": {
      "application/vnd.jupyter.widget-view+json": {
       "model_id": "87169707bb5442a69cb27fd33ec9c0cb",
       "version_major": 2,
       "version_minor": 0
      },
      "text/plain": [
       "computing precision with alignments, completed variants ::   0%|          | 0/15 [00:00<?, ?it/s]"
      ]
     },
     "metadata": {},
     "output_type": "display_data"
    },
    {
     "data": {
      "application/vnd.jupyter.widget-view+json": {
       "model_id": "dc0d5bf30b664939a60d42f9aa1ff1d5",
       "version_major": 2,
       "version_minor": 0
      },
      "text/plain": [
       "computing precision with alignments, completed variants ::   0%|          | 0/15 [00:00<?, ?it/s]"
      ]
     },
     "metadata": {},
     "output_type": "display_data"
    },
    {
     "data": {
      "text/plain": [
       "{'name': 'orderT0',\n",
       " 'fitness': array([0.87565135, 0.87857256, 1.        , 1.        , 1.        ]),\n",
       " 'precision': array([0.93990029, 0.94606503, 0.92546245, 0.92546245, 0.8425518 ]),\n",
       " 'sel_scores': array([0.6    , 0.75135, 0.81821, 0.58779, 0.17226]),\n",
       " 'selected_idx': 2}"
      ]
     },
     "execution_count": 7,
     "metadata": {},
     "output_type": "execute_result"
    }
   ],
   "source": [
    "### Run to evaluate the provided configuration ###\n",
    "\n",
    "# Get the corresponding event log for the row of place files\n",
    "evlog = pm.read_xes(LOG_FILE)\n",
    "# Add unique start and end activities\n",
    "evlog = add_unique_start_end(evlog, UNIQUE_START, UNIQUE_END)\n",
    "\n",
    "selections_to_eval = VIS.model_selection.selections\n",
    "freq_values = [VIS.grouper.variant_data_raw[variant][\"freq\"] for variant in VIS.grouper.variant_data_raw]\n",
    "total_traces = sum(freq_values)\n",
    "\n",
    "eval_info = {}\n",
    "# Extract the file name\n",
    "eval_info['name'] = os.path.basename(PLACE_FILE).replace(\".json\", \"\")\n",
    "eval_info['fitness'] = np.zeros(len(selections_to_eval), dtype=float)\n",
    "eval_info['precision'] = np.zeros(len(selections_to_eval), dtype=float)\n",
    "eval_info['sel_scores'] = np.array([sel[0] for sel in VIS.model_selection.selection_scores])\n",
    "eval_info['selected_idx'] = VIS.model_selection.selected_idx\n",
    "print(f\"Evaluating {eval_info['name']} with {len(selections_to_eval)} selections!\")\n",
    "for j, sel in enumerate(selections_to_eval):\n",
    "    # Calculate the fitness for each selection\n",
    "    eval_info['fitness'][j] = sum(VIS.grouper.variant_data_raw[str(i)][\"freq\"] * max([vec[i] for vec in sel]) for i in range(len(sel[0]))) / total_traces\n",
    "    VIS.set_interesting_groups(sel)\n",
    "    VIS.merge_models_in_list()\n",
    "    net, im, fm = VIS.model_list[0]\n",
    "    eval_info['precision'][j] = pm.precision_alignments(evlog, net, im, fm)\n",
    "eval_info"
   ]
  },
  {
   "cell_type": "code",
   "execution_count": null,
   "metadata": {},
   "outputs": [
    {
     "data": {
      "image/png": "[encoded data removed]",
      "text/plain": [
       "<Figure size 600x400 with 1 Axes>"
      ]
     },
     "metadata": {},
     "output_type": "display_data"
    }
   ],
   "source": [
    "### Run to generate the fitness/precision analysis plot for the evaluation ###\n",
    "fig, ax = plt.subplots(figsize=(6, 4))\n",
    "\n",
    "merge_levels = np.arange(len(eval_info['fitness']))\n",
    "\n",
    "ax.plot(merge_levels, eval_info['sel_scores'], color='mediumseagreen', alpha=0.8, linewidth=2, label='Sel. Score', zorder=0)\n",
    "\n",
    "selected_idx = eval_info.get('selected_idx', None)\n",
    "if selected_idx is not None:\n",
    "    ax.axvline(selected_idx, color='green', linestyle='--', linewidth=1.5, label='Selected')\n",
    "\n",
    "ax.plot(merge_levels, eval_info['fitness'], marker='o', label='Fitness', zorder=2)\n",
    "ax.plot(merge_levels, eval_info['precision'], marker='s', label='Precision', zorder=2)\n",
    "ax.set_title(f\"{eval_info.get('name', 'Plot')}\", fontsize=15)\n",
    "\n",
    "ax.set_xticks(merge_levels)\n",
    "if len(merge_levels) > 20:\n",
    "    labels = [str(x) if x % 2 == 0 else '' for x in merge_levels]\n",
    "    ax.set_xticklabels(labels, fontsize=15)\n",
    "else:\n",
    "    ax.set_xticklabels(merge_levels, fontsize=15)\n",
    "\n",
    "ax.tick_params(axis='y', labelsize=15)\n",
    "ax.set_ylim(0, 1.05)\n",
    "ax.grid(True, linestyle='--', alpha=0.5)\n",
    "ax.legend(loc='lower right', fontsize=16, markerscale=1.5)\n",
    "\n",
    "plt.tight_layout()\n",
    "plt.show()\n"
   ]
  }
 ],
 "metadata": {
  "kernelspec": {
   "display_name": "venv",
   "language": "python",
   "name": "python3"
  },
  "language_info": {
   "codemirror_mode": {
    "name": "ipython",
    "version": 3
   },
   "file_extension": ".py",
   "mimetype": "text/x-python",
   "name": "python",
   "nbconvert_exporter": "python",
   "pygments_lexer": "ipython3",
   "version": "3.12.7"
  }
 },
 "nbformat": 4,
 "nbformat_minor": 2
}
